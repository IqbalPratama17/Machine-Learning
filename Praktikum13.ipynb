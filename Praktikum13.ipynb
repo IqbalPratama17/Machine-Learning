{
  "nbformat": 4,
  "nbformat_minor": 0,
  "metadata": {
    "colab": {
      "name": "Praktikum13.ipynb",
      "provenance": [],
      "collapsed_sections": [],
      "toc_visible": true,
      "authorship_tag": "ABX9TyOz4mVoDcv2s5if+ro0FWDY",
      "include_colab_link": true
    },
    "kernelspec": {
      "name": "python3",
      "display_name": "Python 3"
    }
  },
  "cells": [
    {
      "cell_type": "markdown",
      "metadata": {
        "id": "view-in-github",
        "colab_type": "text"
      },
      "source": [
        "<a href=\"https://colab.research.google.com/github/IqbalPratama17/Machine-Learning/blob/Python/Praktikum13.ipynb\" target=\"_parent\"><img src=\"https://colab.research.google.com/assets/colab-badge.svg\" alt=\"Open In Colab\"/></a>"
      ]
    },
    {
      "cell_type": "markdown",
      "metadata": {
        "id": "z7e4InEJ757g"
      },
      "source": [
        "#### Diketahuikumpulankalimat(stat) dan kelasdarikalimattsbdalam2 kelompokyaitustmt(statement) dan question\r\n",
        "**Jika diberikan kalimat ‘what is the price of the book’  apakah  termasuk kelas question or not.**"
      ]
    },
    {
      "cell_type": "code",
      "metadata": {
        "colab": {
          "base_uri": "https://localhost:8080/",
          "height": 272
        },
        "id": "IoquG13b8McK",
        "outputId": "8b772484-e22a-414b-f8f6-72e96826a2fd"
      },
      "source": [
        "import pandas as pd\r\n",
        "columns = ['sent', 'class']\r\n",
        "rows = []\r\n",
        "rows = [['This is my book', 'stmt'],\r\n",
        "        ['They are novels', 'stmt'],\r\n",
        "        ['have you read this book', 'question'],\r\n",
        "        ['who is the author', 'question'],\r\n",
        "        ['what are the characters', 'question'],\r\n",
        "        ['This is how I bought the book', 'stmt'],\r\n",
        "        ['I like fictions', 'stmt'],\r\n",
        "        ['what is your favorite book', 'question']]\r\n",
        "\r\n",
        "training_data = pd.DataFrame(rows, columns=columns)\r\n",
        "training_data"
      ],
      "execution_count": null,
      "outputs": [
        {
          "output_type": "execute_result",
          "data": {
            "text/html": [
              "<div>\n",
              "<style scoped>\n",
              "    .dataframe tbody tr th:only-of-type {\n",
              "        vertical-align: middle;\n",
              "    }\n",
              "\n",
              "    .dataframe tbody tr th {\n",
              "        vertical-align: top;\n",
              "    }\n",
              "\n",
              "    .dataframe thead th {\n",
              "        text-align: right;\n",
              "    }\n",
              "</style>\n",
              "<table border=\"1\" class=\"dataframe\">\n",
              "  <thead>\n",
              "    <tr style=\"text-align: right;\">\n",
              "      <th></th>\n",
              "      <th>sent</th>\n",
              "      <th>class</th>\n",
              "    </tr>\n",
              "  </thead>\n",
              "  <tbody>\n",
              "    <tr>\n",
              "      <th>0</th>\n",
              "      <td>This is my book</td>\n",
              "      <td>stmt</td>\n",
              "    </tr>\n",
              "    <tr>\n",
              "      <th>1</th>\n",
              "      <td>They are novels</td>\n",
              "      <td>stmt</td>\n",
              "    </tr>\n",
              "    <tr>\n",
              "      <th>2</th>\n",
              "      <td>have you read this book</td>\n",
              "      <td>question</td>\n",
              "    </tr>\n",
              "    <tr>\n",
              "      <th>3</th>\n",
              "      <td>who is the author</td>\n",
              "      <td>question</td>\n",
              "    </tr>\n",
              "    <tr>\n",
              "      <th>4</th>\n",
              "      <td>what are the characters</td>\n",
              "      <td>question</td>\n",
              "    </tr>\n",
              "    <tr>\n",
              "      <th>5</th>\n",
              "      <td>This is how I bought the book</td>\n",
              "      <td>stmt</td>\n",
              "    </tr>\n",
              "    <tr>\n",
              "      <th>6</th>\n",
              "      <td>I like fictions</td>\n",
              "      <td>stmt</td>\n",
              "    </tr>\n",
              "    <tr>\n",
              "      <th>7</th>\n",
              "      <td>what is your favorite book</td>\n",
              "      <td>question</td>\n",
              "    </tr>\n",
              "  </tbody>\n",
              "</table>\n",
              "</div>"
            ],
            "text/plain": [
              "                            sent     class\n",
              "0                This is my book      stmt\n",
              "1                They are novels      stmt\n",
              "2        have you read this book  question\n",
              "3              who is the author  question\n",
              "4        what are the characters  question\n",
              "5  This is how I bought the book      stmt\n",
              "6                I like fictions      stmt\n",
              "7     what is your favorite book  question"
            ]
          },
          "metadata": {
            "tags": []
          },
          "execution_count": 7
        }
      ]
    },
    {
      "cell_type": "code",
      "metadata": {
        "colab": {
          "base_uri": "https://localhost:8080/"
        },
        "id": "QoEokyXl-Csw",
        "outputId": "3dce9d24-22e0-4136-82fc-85c3dacb2e3b"
      },
      "source": [
        "from sklearn.feature_extraction.text import CountVectorizer\r\n",
        "stmt_docs = [row['sent'] for index,row in training_data.iterrows() if row['class'] == 'stmt']\r\n",
        "stmt_docs"
      ],
      "execution_count": null,
      "outputs": [
        {
          "output_type": "execute_result",
          "data": {
            "text/plain": [
              "['This is my book',\n",
              " 'They are novels',\n",
              " 'This is how I bought the book',\n",
              " 'I like fictions']"
            ]
          },
          "metadata": {
            "tags": []
          },
          "execution_count": 8
        }
      ]
    },
    {
      "cell_type": "code",
      "metadata": {
        "colab": {
          "base_uri": "https://localhost:8080/",
          "height": 159
        },
        "id": "8Ktt-BoX_Qb9",
        "outputId": "c9e95d1e-c8ba-42dd-facf-e7469f264e76"
      },
      "source": [
        "# What is the price of the book\r\n",
        "vec_s = CountVectorizer()\r\n",
        "X_s = vec_s.fit_transform(stmt_docs)\r\n",
        "\r\n",
        "tdm_s = pd.DataFrame(X_s.toarray(), columns=vec_s.get_feature_names())\r\n",
        "tdm_s"
      ],
      "execution_count": null,
      "outputs": [
        {
          "output_type": "execute_result",
          "data": {
            "text/html": [
              "<div>\n",
              "<style scoped>\n",
              "    .dataframe tbody tr th:only-of-type {\n",
              "        vertical-align: middle;\n",
              "    }\n",
              "\n",
              "    .dataframe tbody tr th {\n",
              "        vertical-align: top;\n",
              "    }\n",
              "\n",
              "    .dataframe thead th {\n",
              "        text-align: right;\n",
              "    }\n",
              "</style>\n",
              "<table border=\"1\" class=\"dataframe\">\n",
              "  <thead>\n",
              "    <tr style=\"text-align: right;\">\n",
              "      <th></th>\n",
              "      <th>are</th>\n",
              "      <th>book</th>\n",
              "      <th>bought</th>\n",
              "      <th>fictions</th>\n",
              "      <th>how</th>\n",
              "      <th>is</th>\n",
              "      <th>like</th>\n",
              "      <th>my</th>\n",
              "      <th>novels</th>\n",
              "      <th>the</th>\n",
              "      <th>they</th>\n",
              "      <th>this</th>\n",
              "    </tr>\n",
              "  </thead>\n",
              "  <tbody>\n",
              "    <tr>\n",
              "      <th>0</th>\n",
              "      <td>0</td>\n",
              "      <td>1</td>\n",
              "      <td>0</td>\n",
              "      <td>0</td>\n",
              "      <td>0</td>\n",
              "      <td>1</td>\n",
              "      <td>0</td>\n",
              "      <td>1</td>\n",
              "      <td>0</td>\n",
              "      <td>0</td>\n",
              "      <td>0</td>\n",
              "      <td>1</td>\n",
              "    </tr>\n",
              "    <tr>\n",
              "      <th>1</th>\n",
              "      <td>1</td>\n",
              "      <td>0</td>\n",
              "      <td>0</td>\n",
              "      <td>0</td>\n",
              "      <td>0</td>\n",
              "      <td>0</td>\n",
              "      <td>0</td>\n",
              "      <td>0</td>\n",
              "      <td>1</td>\n",
              "      <td>0</td>\n",
              "      <td>1</td>\n",
              "      <td>0</td>\n",
              "    </tr>\n",
              "    <tr>\n",
              "      <th>2</th>\n",
              "      <td>0</td>\n",
              "      <td>1</td>\n",
              "      <td>1</td>\n",
              "      <td>0</td>\n",
              "      <td>1</td>\n",
              "      <td>1</td>\n",
              "      <td>0</td>\n",
              "      <td>0</td>\n",
              "      <td>0</td>\n",
              "      <td>1</td>\n",
              "      <td>0</td>\n",
              "      <td>1</td>\n",
              "    </tr>\n",
              "    <tr>\n",
              "      <th>3</th>\n",
              "      <td>0</td>\n",
              "      <td>0</td>\n",
              "      <td>0</td>\n",
              "      <td>1</td>\n",
              "      <td>0</td>\n",
              "      <td>0</td>\n",
              "      <td>1</td>\n",
              "      <td>0</td>\n",
              "      <td>0</td>\n",
              "      <td>0</td>\n",
              "      <td>0</td>\n",
              "      <td>0</td>\n",
              "    </tr>\n",
              "  </tbody>\n",
              "</table>\n",
              "</div>"
            ],
            "text/plain": [
              "   are  book  bought  fictions  how  is  like  my  novels  the  they  this\n",
              "0    0     1       0         0    0   1     0   1       0    0     0     1\n",
              "1    1     0       0         0    0   0     0   0       1    0     1     0\n",
              "2    0     1       1         0    1   1     0   0       0    1     0     1\n",
              "3    0     0       0         1    0   0     1   0       0    0     0     0"
            ]
          },
          "metadata": {
            "tags": []
          },
          "execution_count": 9
        }
      ]
    },
    {
      "cell_type": "code",
      "metadata": {
        "colab": {
          "base_uri": "https://localhost:8080/",
          "height": 159
        },
        "id": "goDwk9eNAAnf",
        "outputId": "543619e0-b087-4775-e4f6-8b2aa5d78dee"
      },
      "source": [
        "q_docs = [row['sent'] for index,row in training_data.iterrows() if row['class'] == 'question']\r\n",
        "vec_q = CountVectorizer()\r\n",
        "X_q = vec_q.fit_transform(q_docs)\r\n",
        "tdm_q = pd.DataFrame(X_q.toarray(), columns=vec_q.get_feature_names())\r\n",
        "tdm_q"
      ],
      "execution_count": null,
      "outputs": [
        {
          "output_type": "execute_result",
          "data": {
            "text/html": [
              "<div>\n",
              "<style scoped>\n",
              "    .dataframe tbody tr th:only-of-type {\n",
              "        vertical-align: middle;\n",
              "    }\n",
              "\n",
              "    .dataframe tbody tr th {\n",
              "        vertical-align: top;\n",
              "    }\n",
              "\n",
              "    .dataframe thead th {\n",
              "        text-align: right;\n",
              "    }\n",
              "</style>\n",
              "<table border=\"1\" class=\"dataframe\">\n",
              "  <thead>\n",
              "    <tr style=\"text-align: right;\">\n",
              "      <th></th>\n",
              "      <th>are</th>\n",
              "      <th>author</th>\n",
              "      <th>book</th>\n",
              "      <th>characters</th>\n",
              "      <th>favorite</th>\n",
              "      <th>have</th>\n",
              "      <th>is</th>\n",
              "      <th>read</th>\n",
              "      <th>the</th>\n",
              "      <th>this</th>\n",
              "      <th>what</th>\n",
              "      <th>who</th>\n",
              "      <th>you</th>\n",
              "      <th>your</th>\n",
              "    </tr>\n",
              "  </thead>\n",
              "  <tbody>\n",
              "    <tr>\n",
              "      <th>0</th>\n",
              "      <td>0</td>\n",
              "      <td>0</td>\n",
              "      <td>1</td>\n",
              "      <td>0</td>\n",
              "      <td>0</td>\n",
              "      <td>1</td>\n",
              "      <td>0</td>\n",
              "      <td>1</td>\n",
              "      <td>0</td>\n",
              "      <td>1</td>\n",
              "      <td>0</td>\n",
              "      <td>0</td>\n",
              "      <td>1</td>\n",
              "      <td>0</td>\n",
              "    </tr>\n",
              "    <tr>\n",
              "      <th>1</th>\n",
              "      <td>0</td>\n",
              "      <td>1</td>\n",
              "      <td>0</td>\n",
              "      <td>0</td>\n",
              "      <td>0</td>\n",
              "      <td>0</td>\n",
              "      <td>1</td>\n",
              "      <td>0</td>\n",
              "      <td>1</td>\n",
              "      <td>0</td>\n",
              "      <td>0</td>\n",
              "      <td>1</td>\n",
              "      <td>0</td>\n",
              "      <td>0</td>\n",
              "    </tr>\n",
              "    <tr>\n",
              "      <th>2</th>\n",
              "      <td>1</td>\n",
              "      <td>0</td>\n",
              "      <td>0</td>\n",
              "      <td>1</td>\n",
              "      <td>0</td>\n",
              "      <td>0</td>\n",
              "      <td>0</td>\n",
              "      <td>0</td>\n",
              "      <td>1</td>\n",
              "      <td>0</td>\n",
              "      <td>1</td>\n",
              "      <td>0</td>\n",
              "      <td>0</td>\n",
              "      <td>0</td>\n",
              "    </tr>\n",
              "    <tr>\n",
              "      <th>3</th>\n",
              "      <td>0</td>\n",
              "      <td>0</td>\n",
              "      <td>1</td>\n",
              "      <td>0</td>\n",
              "      <td>1</td>\n",
              "      <td>0</td>\n",
              "      <td>1</td>\n",
              "      <td>0</td>\n",
              "      <td>0</td>\n",
              "      <td>0</td>\n",
              "      <td>1</td>\n",
              "      <td>0</td>\n",
              "      <td>0</td>\n",
              "      <td>1</td>\n",
              "    </tr>\n",
              "  </tbody>\n",
              "</table>\n",
              "</div>"
            ],
            "text/plain": [
              "   are  author  book  characters  favorite  ...  this  what  who  you  your\n",
              "0    0       0     1           0         0  ...     1     0    0    1     0\n",
              "1    0       1     0           0         0  ...     0     0    1    0     0\n",
              "2    1       0     0           1         0  ...     0     1    0    0     0\n",
              "3    0       0     1           0         1  ...     0     1    0    0     1\n",
              "\n",
              "[4 rows x 14 columns]"
            ]
          },
          "metadata": {
            "tags": []
          },
          "execution_count": 10
        }
      ]
    },
    {
      "cell_type": "code",
      "metadata": {
        "colab": {
          "base_uri": "https://localhost:8080/"
        },
        "id": "6wo1wcgLBKoj",
        "outputId": "fadf500c-ffcf-475c-f89b-e88961a078aa"
      },
      "source": [
        "word_list_s = vec_s.get_feature_names();\r\n",
        "count_list_s = X_s.toarray().sum(axis=0)\r\n",
        "freq_s = dict(zip(word_list_s,count_list_s))\r\n",
        "word_list_s\r\n",
        "freq_s"
      ],
      "execution_count": null,
      "outputs": [
        {
          "output_type": "execute_result",
          "data": {
            "text/plain": [
              "{'are': 1,\n",
              " 'book': 2,\n",
              " 'bought': 1,\n",
              " 'fictions': 1,\n",
              " 'how': 1,\n",
              " 'is': 2,\n",
              " 'like': 1,\n",
              " 'my': 1,\n",
              " 'novels': 1,\n",
              " 'the': 1,\n",
              " 'they': 1,\n",
              " 'this': 2}"
            ]
          },
          "metadata": {
            "tags": []
          },
          "execution_count": 11
        }
      ]
    },
    {
      "cell_type": "code",
      "metadata": {
        "colab": {
          "base_uri": "https://localhost:8080/"
        },
        "id": "y8F8dniJCRVt",
        "outputId": "65dad8d4-7414-4ff3-f072-88f15f552649"
      },
      "source": [
        "prob_s = []\r\n",
        "for word,count in zip(word_list_s,count_list_s):\r\n",
        "  prob_s.append(count/len(word_list_s))\r\n",
        "dict(zip(word_list_s,prob_s))"
      ],
      "execution_count": null,
      "outputs": [
        {
          "output_type": "execute_result",
          "data": {
            "text/plain": [
              "{'are': 0.08333333333333333,\n",
              " 'book': 0.16666666666666666,\n",
              " 'bought': 0.08333333333333333,\n",
              " 'fictions': 0.08333333333333333,\n",
              " 'how': 0.08333333333333333,\n",
              " 'is': 0.16666666666666666,\n",
              " 'like': 0.08333333333333333,\n",
              " 'my': 0.08333333333333333,\n",
              " 'novels': 0.08333333333333333,\n",
              " 'the': 0.08333333333333333,\n",
              " 'they': 0.08333333333333333,\n",
              " 'this': 0.16666666666666666}"
            ]
          },
          "metadata": {
            "tags": []
          },
          "execution_count": 13
        }
      ]
    },
    {
      "cell_type": "code",
      "metadata": {
        "colab": {
          "base_uri": "https://localhost:8080/"
        },
        "id": "MrHxb5edCwq1",
        "outputId": "d82f514a-48dc-4e22-86c3-280bc8440ad7"
      },
      "source": [
        "word_list_q = vec_q.get_feature_names();\r\n",
        "count_list_q = X_q.toarray().sum(axis=0)\r\n",
        "freq_q = dict(zip(word_list_q,count_list_q))\r\n",
        "word_list_q\r\n",
        "freq_q"
      ],
      "execution_count": null,
      "outputs": [
        {
          "output_type": "execute_result",
          "data": {
            "text/plain": [
              "{'are': 1,\n",
              " 'author': 1,\n",
              " 'book': 2,\n",
              " 'characters': 1,\n",
              " 'favorite': 1,\n",
              " 'have': 1,\n",
              " 'is': 2,\n",
              " 'read': 1,\n",
              " 'the': 2,\n",
              " 'this': 1,\n",
              " 'what': 2,\n",
              " 'who': 1,\n",
              " 'you': 1,\n",
              " 'your': 1}"
            ]
          },
          "metadata": {
            "tags": []
          },
          "execution_count": 14
        }
      ]
    },
    {
      "cell_type": "code",
      "metadata": {
        "colab": {
          "base_uri": "https://localhost:8080/"
        },
        "id": "XWBhQdTKEaZW",
        "outputId": "8d174a5c-799f-47d4-9910-b6aa0d66d30f"
      },
      "source": [
        "prob_q = []\r\n",
        "for word,count in zip(word_list_q,count_list_q):\r\n",
        "  prob_q.append(count/len(word_list_q))\r\n",
        "dict(zip(word_list_q,prob_q))"
      ],
      "execution_count": null,
      "outputs": [
        {
          "output_type": "execute_result",
          "data": {
            "text/plain": [
              "{'are': 0.07142857142857142,\n",
              " 'author': 0.07142857142857142,\n",
              " 'book': 0.14285714285714285,\n",
              " 'characters': 0.07142857142857142,\n",
              " 'favorite': 0.07142857142857142,\n",
              " 'have': 0.07142857142857142,\n",
              " 'is': 0.14285714285714285,\n",
              " 'read': 0.07142857142857142,\n",
              " 'the': 0.14285714285714285,\n",
              " 'this': 0.07142857142857142,\n",
              " 'what': 0.14285714285714285,\n",
              " 'who': 0.07142857142857142,\n",
              " 'you': 0.07142857142857142,\n",
              " 'your': 0.07142857142857142}"
            ]
          },
          "metadata": {
            "tags": []
          },
          "execution_count": 15
        }
      ]
    },
    {
      "cell_type": "code",
      "metadata": {
        "colab": {
          "base_uri": "https://localhost:8080/"
        },
        "id": "c-ZddX3FEmX8",
        "outputId": "87a65232-f7c3-4ed9-f3ad-83d824f4cd16"
      },
      "source": [
        "from sklearn.feature_extraction.text import CountVectorizer\r\n",
        "docs = [row['sent'] for index,row in training_data.iterrows()]\r\n",
        "\r\n",
        "vec = CountVectorizer()\r\n",
        "X = vec.fit_transform(docs)\r\n",
        "\r\n",
        "total_features = len(vec.get_feature_names())\r\n",
        "total_features"
      ],
      "execution_count": null,
      "outputs": [
        {
          "output_type": "execute_result",
          "data": {
            "text/plain": [
              "21"
            ]
          },
          "metadata": {
            "tags": []
          },
          "execution_count": 17
        }
      ]
    },
    {
      "cell_type": "code",
      "metadata": {
        "colab": {
          "base_uri": "https://localhost:8080/"
        },
        "id": "9LoGTfrtFjzC",
        "outputId": "bf687510-088b-472c-d8fe-eecff8c38535"
      },
      "source": [
        "total_cnts_features_s = count_list_s.sum(axis=0)\r\n",
        "total_cnts_features_q = count_list_q.sum(axis=0)\r\n",
        "print (total_cnts_features_s)\r\n",
        "print (total_cnts_features_q)"
      ],
      "execution_count": null,
      "outputs": [
        {
          "output_type": "stream",
          "text": [
            "15\n",
            "18\n"
          ],
          "name": "stdout"
        }
      ]
    },
    {
      "cell_type": "code",
      "metadata": {
        "colab": {
          "base_uri": "https://localhost:8080/"
        },
        "id": "diVI4Jv1F692",
        "outputId": "daf95417-6668-49be-fee4-1bcb08fdf72b"
      },
      "source": [
        "'''\r\n",
        "NLTK adalah salah satu tool yang sangat populer pada ilmu natural language processing (NLP)\r\n",
        "dengan menggunakan bahasa pemrograman python. natural language toolkit ini sangat mendukung\r\n",
        "proses pengolahan bahasa natural\r\n",
        "seperti classification, tokenization, stemming, tagging, parsing\r\n",
        "'''\r\n",
        "import nltk\r\n",
        "nltk.download('punkt')"
      ],
      "execution_count": null,
      "outputs": [
        {
          "output_type": "stream",
          "text": [
            "[nltk_data] Downloading package punkt to /root/nltk_data...\n",
            "[nltk_data]   Unzipping tokenizers/punkt.zip.\n"
          ],
          "name": "stdout"
        },
        {
          "output_type": "execute_result",
          "data": {
            "text/plain": [
              "True"
            ]
          },
          "metadata": {
            "tags": []
          },
          "execution_count": 19
        }
      ]
    },
    {
      "cell_type": "code",
      "metadata": {
        "colab": {
          "base_uri": "https://localhost:8080/"
        },
        "id": "XxF3bLYeG40K",
        "outputId": "6d5807d6-5f9c-44e4-f6fc-a86410d7f687"
      },
      "source": [
        "from nltk.tokenize import word_tokenize\r\n",
        "new_sentence = 'what is the price of the book'\r\n",
        "new_word_list = word_tokenize(new_sentence)\r\n",
        "print(new_word_list)"
      ],
      "execution_count": null,
      "outputs": [
        {
          "output_type": "stream",
          "text": [
            "['what', 'is', 'the', 'price', 'of', 'the', 'book']\n"
          ],
          "name": "stdout"
        }
      ]
    },
    {
      "cell_type": "code",
      "metadata": {
        "colab": {
          "base_uri": "https://localhost:8080/"
        },
        "id": "f9VMXI-mHVJ1",
        "outputId": "7858e502-688f-42e6-d6fb-0534b48b6c1f"
      },
      "source": [
        "prob_s_with_ls = []\r\n",
        "for word in new_word_list:\r\n",
        "  if word in freq_s.keys():\r\n",
        "    count = freq_s[word]\r\n",
        "  else :\r\n",
        "    count = 0\r\n",
        "  prob_s_with_ls.append((count + 1)/(total_cnts_features_s + total_features))\r\n",
        "dict(zip(new_word_list, prob_s_with_ls))"
      ],
      "execution_count": null,
      "outputs": [
        {
          "output_type": "execute_result",
          "data": {
            "text/plain": [
              "{'book': 0.08333333333333333,\n",
              " 'is': 0.08333333333333333,\n",
              " 'of': 0.027777777777777776,\n",
              " 'price': 0.027777777777777776,\n",
              " 'the': 0.05555555555555555,\n",
              " 'what': 0.027777777777777776}"
            ]
          },
          "metadata": {
            "tags": []
          },
          "execution_count": 22
        }
      ]
    },
    {
      "cell_type": "code",
      "metadata": {
        "colab": {
          "base_uri": "https://localhost:8080/"
        },
        "id": "PO8C3_RvIXpc",
        "outputId": "75271e16-a230-4854-e84b-b6a35bff1ead"
      },
      "source": [
        "prob_q_with_ls = []\r\n",
        "for word in new_word_list:\r\n",
        "  if word in freq_q.keys():\r\n",
        "    count = freq_q[word]\r\n",
        "  else :\r\n",
        "    count = 0\r\n",
        "  prob_q_with_ls.append((count + 1)/(total_cnts_features_q + total_features))\r\n",
        "dict(zip(new_word_list, prob_q_with_ls))"
      ],
      "execution_count": null,
      "outputs": [
        {
          "output_type": "execute_result",
          "data": {
            "text/plain": [
              "{'book': 0.07692307692307693,\n",
              " 'is': 0.07692307692307693,\n",
              " 'of': 0.02564102564102564,\n",
              " 'price': 0.02564102564102564,\n",
              " 'the': 0.07692307692307693,\n",
              " 'what': 0.07692307692307693}"
            ]
          },
          "metadata": {
            "tags": []
          },
          "execution_count": 23
        }
      ]
    },
    {
      "cell_type": "code",
      "metadata": {
        "colab": {
          "base_uri": "https://localhost:8080/"
        },
        "id": "5abOP69OIlDF",
        "outputId": "1490fa1c-7259-44b5-a6b4-d4a71fc70a8b"
      },
      "source": [
        "i = 0\r\n",
        "prob_s_=1\r\n",
        "for i in range(len(prob_s_with_ls)):\r\n",
        "  prob_s_=prob_s_*prob_s_with_ls[i]\r\n",
        "print (prob_s_)\r\n",
        "print (\"Nilai akhir statment \",prob_s_*0.5)"
      ],
      "execution_count": null,
      "outputs": [
        {
          "output_type": "stream",
          "text": [
            "4.5939365799778324e-10\n",
            "Nilai akhir statment  2.2969682899889162e-10\n"
          ],
          "name": "stdout"
        }
      ]
    },
    {
      "cell_type": "code",
      "metadata": {
        "colab": {
          "base_uri": "https://localhost:8080/"
        },
        "id": "zM-xD_GAJIqL",
        "outputId": "85bf8ee0-8afb-4bcd-af3a-6b03bfac2fb6"
      },
      "source": [
        "i = 0\r\n",
        "prob_q_=1\r\n",
        "for i in range(len(prob_q_with_ls)):\r\n",
        "  prob_q_=prob_q_*prob_q_with_ls[i]\r\n",
        "print (prob_q_)\r\n",
        "print (\"Nilai akhir statment \",prob_q_*0.5)"
      ],
      "execution_count": null,
      "outputs": [
        {
          "output_type": "stream",
          "text": [
            "1.7707368464359263e-09\n",
            "Nilai akhir statment  8.853684232179632e-10\n"
          ],
          "name": "stdout"
        }
      ]
    },
    {
      "cell_type": "markdown",
      "metadata": {
        "id": "kvV68fTlJVe_"
      },
      "source": [
        "**Kesimpulan akhir adalah kalimat QUESTION**"
      ]
    }
  ]
}