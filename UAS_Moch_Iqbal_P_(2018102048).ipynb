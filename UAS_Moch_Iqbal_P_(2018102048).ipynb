{
  "nbformat": 4,
  "nbformat_minor": 0,
  "metadata": {
    "colab": {
      "name": "UAS Moch Iqbal P (2018102048).ipynb",
      "provenance": [],
      "collapsed_sections": [],
      "authorship_tag": "ABX9TyOYwoXbG98GwtSHjetNZh4o",
      "include_colab_link": true
    },
    "kernelspec": {
      "name": "python3",
      "display_name": "Python 3"
    }
  },
  "cells": [
    {
      "cell_type": "markdown",
      "metadata": {
        "id": "view-in-github",
        "colab_type": "text"
      },
      "source": [
        "<a href=\"https://colab.research.google.com/github/IqbalPratama17/Machine-Learning/blob/Python/UAS_Moch_Iqbal_P_(2018102048).ipynb\" target=\"_parent\"><img src=\"https://colab.research.google.com/assets/colab-badge.svg\" alt=\"Open In Colab\"/></a>"
      ]
    },
    {
      "cell_type": "markdown",
      "metadata": {
        "id": "Uusp95UXK7W4"
      },
      "source": [
        "**Travel**"
      ]
    },
    {
      "cell_type": "code",
      "metadata": {
        "id": "HMV85WqTMEd6"
      },
      "source": [
        "# Membuat Dataset\r\n",
        "jk = ['laki-laki','laki-laki','Perempuan','Perempuan','laki-laki','laki-laki','Perempuan',\r\n",
        "      'Perempuan','laki-laki','Perempuan']\r\n",
        "biaya = ['Murah','Murah','Murah','Murah','Murah','Standar','Standar','Mahal','Mahal','Mahal']\r\n",
        "income = ['Rendah','Sedang','Sedang','Rendah','Sedang','Sedang','Sedang','Tinggi','Sedang','Tinggi']\r\n",
        "transpotasi = ['Bus','Bus','Kereta api','Bus','Bus','Kereta api','Kereta api','Mobil','Mobil','Mobil']\r\n",
        "tujuan = ['No','Yes','Yes','No','Yes','No','Yes','Yes','No','No']"
      ],
      "execution_count": 1,
      "outputs": []
    },
    {
      "cell_type": "code",
      "metadata": {
        "colab": {
          "base_uri": "https://localhost:8080/"
        },
        "id": "wwaSHKQoNMvM",
        "outputId": "8d642127-ee6c-4763-a78c-b652830e0bac"
      },
      "source": [
        "# Import Label Encoder\r\n",
        "from sklearn import preprocessing\r\n",
        "\r\n",
        "# Creating Label Encoder\r\n",
        "lb = preprocessing.LabelEncoder()\r\n",
        "\r\n",
        "# Convert label string to numbers\r\n",
        "jk_encoded = lb.fit_transform(jk)\r\n",
        "print (jk_encoded)\r\n",
        "\r\n",
        "# Convert label string to numbers\r\n",
        "biaya_encoded = lb.fit_transform(biaya)\r\n",
        "print (biaya_encoded)"
      ],
      "execution_count": 2,
      "outputs": [
        {
          "output_type": "stream",
          "text": [
            "[1 1 0 0 1 1 0 0 1 0]\n",
            "[1 1 1 1 1 2 2 0 0 0]\n"
          ],
          "name": "stdout"
        }
      ]
    },
    {
      "cell_type": "code",
      "metadata": {
        "colab": {
          "base_uri": "https://localhost:8080/"
        },
        "id": "yj9suCD1Qtc_",
        "outputId": "105b2b39-40a5-44a3-935c-1b7595ad895f"
      },
      "source": [
        "# Convert label string to numbers\r\n",
        "income_encoded = lb.fit_transform(income)\r\n",
        "print (income_encoded)\r\n",
        "\r\n",
        "# Convert label string to numbers\r\n",
        "transpotasi_encoded = lb.fit_transform(transpotasi)\r\n",
        "print (transpotasi_encoded)"
      ],
      "execution_count": 3,
      "outputs": [
        {
          "output_type": "stream",
          "text": [
            "[0 1 1 0 1 1 1 2 1 2]\n",
            "[0 0 1 0 0 1 1 2 2 2]\n"
          ],
          "name": "stdout"
        }
      ]
    },
    {
      "cell_type": "code",
      "metadata": {
        "colab": {
          "base_uri": "https://localhost:8080/"
        },
        "id": "SxnzaQ_ORDkO",
        "outputId": "5374c702-1398-47bd-c932-7a8b74d0eaee"
      },
      "source": [
        "label=lb.fit_transform(tujuan)\r\n",
        "print (\"jk          :\", jk_encoded)\r\n",
        "print (\"biaya       :\", biaya_encoded)\r\n",
        "print (\"income      :\", income_encoded)\r\n",
        "print (\"transpotasi :\", transpotasi_encoded)\r\n",
        "print (\"tujuan      :\", label)"
      ],
      "execution_count": 4,
      "outputs": [
        {
          "output_type": "stream",
          "text": [
            "jk          : [1 1 0 0 1 1 0 0 1 0]\n",
            "biaya       : [1 1 1 1 1 2 2 0 0 0]\n",
            "income      : [0 1 1 0 1 1 1 2 1 2]\n",
            "transpotasi : [0 0 1 0 0 1 1 2 2 2]\n",
            "tujuan      : [0 1 1 0 1 0 1 1 0 0]\n"
          ],
          "name": "stdout"
        }
      ]
    },
    {
      "cell_type": "code",
      "metadata": {
        "colab": {
          "base_uri": "https://localhost:8080/"
        },
        "id": "MRtnKYB9R6_x",
        "outputId": "1fa82c30-61b5-47b8-acd6-548f797f8227"
      },
      "source": [
        "# Combine fitur-fitur yang ada\r\n",
        "features = zip(jk_encoded,biaya_encoded,income_encoded,transpotasi_encoded)\r\n",
        "features = list(features)\r\n",
        "print (tuple(features))"
      ],
      "execution_count": 5,
      "outputs": [
        {
          "output_type": "stream",
          "text": [
            "((1, 1, 0, 0), (1, 1, 1, 0), (0, 1, 1, 1), (0, 1, 0, 0), (1, 1, 1, 0), (1, 2, 1, 1), (0, 2, 1, 1), (0, 0, 2, 2), (1, 0, 1, 2), (0, 0, 2, 2))\n"
          ],
          "name": "stdout"
        }
      ]
    },
    {
      "cell_type": "code",
      "metadata": {
        "colab": {
          "base_uri": "https://localhost:8080/"
        },
        "id": "Ll9MgAutSK2J",
        "outputId": "658ee22a-4811-4440-e5e5-52a247d2f866"
      },
      "source": [
        "# Import gaussain naive bayes model\r\n",
        "from sklearn.naive_bayes import GaussianNB\r\n",
        "\r\n",
        "# Panggil gaussain classifier\r\n",
        "model = GaussianNB()\r\n",
        "\r\n",
        "# Train Model untuk data training\r\n",
        "model.fit(features,label)\r\n",
        "# model.fit(features,label.reshape(-1,1))\r\n",
        "\r\n",
        "# Predict Output\r\n",
        "predicted= model.predict([[0,2,0,0]])\r\n",
        "print (\"Hasil Predict :\", predicted)"
      ],
      "execution_count": 6,
      "outputs": [
        {
          "output_type": "stream",
          "text": [
            "Hasil Predict : [0]\n"
          ],
          "name": "stdout"
        }
      ]
    },
    {
      "cell_type": "markdown",
      "metadata": {
        "id": "ii2OpmkRSoOw"
      },
      "source": [
        "**Kesimpulan**\r\n",
        "1.   Jenis kelamin    = ”Perempuan”\r\n",
        "2.   Biaya Perjalanan = ”Standar”\r\n",
        "3.   Income level     = ”Rendah”\r\n",
        "4.   Transportasi     = ”Bus”\r\n",
        "5.   Tujuan           = ”No”"
      ]
    }
  ]
}